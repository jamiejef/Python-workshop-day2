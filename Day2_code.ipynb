{
 "cells": [
  {
   "cell_type": "markdown",
   "metadata": {},
   "source": [
    "# Heading \n"
   ]
  },
  {
   "cell_type": "markdown",
   "metadata": {},
   "source": [
    "this is our project for day 2 software carpentry"
   ]
  },
  {
   "cell_type": "markdown",
   "metadata": {},
   "source": [
    "###Using the # changes the font size"
   ]
  },
  {
   "cell_type": "markdown",
   "metadata": {},
   "source": [
    "We made a 'jupyter notebook'"
   ]
  },
  {
   "cell_type": "markdown",
   "metadata": {},
   "source": [
    "'jupyter'"
   ]
  },
  {
   "cell_type": "code",
   "execution_count": 1,
   "metadata": {},
   "outputs": [],
   "source": [
    "# We want to import pandas\n",
    "import pandas as pd"
   ]
  },
  {
   "cell_type": "markdown",
   "metadata": {},
   "source": [
    "challenge #1\n",
    "\n",
    "-import the file 'gapminder_gdo_europe.csv'\n",
    "- save it as data"
   ]
  },
  {
   "cell_type": "code",
   "execution_count": 11,
   "metadata": {},
   "outputs": [],
   "source": [
    "data = pd.read_csv('/Users/JamieJeffries/Desktop/python-day2/data2/gapminder_gdp_europe.csv', index_col = 'country')\n",
    "#This puts the column headigs \n"
   ]
  },
  {
   "cell_type": "code",
   "execution_count": 12,
   "metadata": {},
   "outputs": [
    {
     "name": "stdout",
     "output_type": "stream",
     "text": [
      "                        gdpPercap_1952  gdpPercap_1957  gdpPercap_1962  \\\n",
      "country                                                                  \n",
      "Albania                    1601.056136     1942.284244     2312.888958   \n",
      "Austria                    6137.076492     8842.598030    10750.721110   \n",
      "Belgium                    8343.105127     9714.960623    10991.206760   \n",
      "Bosnia and Herzegovina      973.533195     1353.989176     1709.683679   \n",
      "Bulgaria                   2444.286648     3008.670727     4254.337839   \n",
      "Croatia                    3119.236520     4338.231617     5477.890018   \n",
      "Czech Republic             6876.140250     8256.343918    10136.867130   \n",
      "Denmark                    9692.385245    11099.659350    13583.313510   \n",
      "Finland                    6424.519071     7545.415386     9371.842561   \n",
      "France                     7029.809327     8662.834898    10560.485530   \n",
      "Germany                    7144.114393    10187.826650    12902.462910   \n",
      "Greece                     3530.690067     4916.299889     6017.190733   \n",
      "Hungary                    5263.673816     6040.180011     7550.359877   \n",
      "Iceland                    7267.688428     9244.001412    10350.159060   \n",
      "Ireland                    5210.280328     5599.077872     6631.597314   \n",
      "Italy                      4931.404155     6248.656232     8243.582340   \n",
      "Montenegro                 2647.585601     3682.259903     4649.593785   \n",
      "Netherlands                8941.571858    11276.193440    12790.849560   \n",
      "Norway                    10095.421720    11653.973040    13450.401510   \n",
      "Poland                     4029.329699     4734.253019     5338.752143   \n",
      "Portugal                   3068.319867     3774.571743     4727.954889   \n",
      "Romania                    3144.613186     3943.370225     4734.997586   \n",
      "Serbia                     3581.459448     4981.090891     6289.629157   \n",
      "Slovak Republic            5074.659104     6093.262980     7481.107598   \n",
      "Slovenia                   4215.041741     5862.276629     7402.303395   \n",
      "Spain                      3834.034742     4564.802410     5693.843879   \n",
      "Sweden                     8527.844662     9911.878226    12329.441920   \n",
      "Switzerland               14734.232750    17909.489730    20431.092700   \n",
      "Turkey                     1969.100980     2218.754257     2322.869908   \n",
      "United Kingdom             9979.508487    11283.177950    12477.177070   \n",
      "\n",
      "                        gdpPercap_1967  gdpPercap_1972  gdpPercap_1977  \\\n",
      "country                                                                  \n",
      "Albania                    2760.196931     3313.422188     3533.003910   \n",
      "Austria                   12834.602400    16661.625600    19749.422300   \n",
      "Belgium                   13149.041190    16672.143560    19117.974480   \n",
      "Bosnia and Herzegovina     2172.352423     2860.169750     3528.481305   \n",
      "Bulgaria                   5577.002800     6597.494398     7612.240438   \n",
      "Croatia                    6960.297861     9164.090127    11305.385170   \n",
      "Czech Republic            11399.444890    13108.453600    14800.160620   \n",
      "Denmark                   15937.211230    18866.207210    20422.901500   \n",
      "Finland                   10921.636260    14358.875900    15605.422830   \n",
      "France                    12999.917660    16107.191710    18292.635140   \n",
      "Germany                   14745.625610    18016.180270    20512.921230   \n",
      "Greece                     8513.097016    12724.829570    14195.524280   \n",
      "Hungary                    9326.644670    10168.656110    11674.837370   \n",
      "Iceland                   13319.895680    15798.063620    19654.962470   \n",
      "Ireland                    7655.568963     9530.772896    11150.981130   \n",
      "Italy                     10022.401310    12269.273780    14255.984750   \n",
      "Montenegro                 5907.850937     7778.414017     9595.929905   \n",
      "Netherlands               15363.251360    18794.745670    21209.059200   \n",
      "Norway                    16361.876470    18965.055510    23311.349390   \n",
      "Poland                     6557.152776     8006.506993     9508.141454   \n",
      "Portugal                   6361.517993     9022.247417    10172.485720   \n",
      "Romania                    6470.866545     8011.414402     9356.397240   \n",
      "Serbia                     7991.707066    10522.067490    12980.669560   \n",
      "Slovak Republic            8412.902397     9674.167626    10922.664040   \n",
      "Slovenia                   9405.489397    12383.486200    15277.030170   \n",
      "Spain                      7993.512294    10638.751310    13236.921170   \n",
      "Sweden                    15258.296970    17832.024640    18855.725210   \n",
      "Switzerland               22966.144320    27195.113040    26982.290520   \n",
      "Turkey                     2826.356387     3450.696380     4269.122326   \n",
      "United Kingdom            14142.850890    15895.116410    17428.748460   \n",
      "\n",
      "                        gdpPercap_1982  gdpPercap_1987  gdpPercap_1992  \\\n",
      "country                                                                  \n",
      "Albania                    3630.880722     3738.932735     2497.437901   \n",
      "Austria                   21597.083620    23687.826070    27042.018680   \n",
      "Belgium                   20979.845890    22525.563080    25575.570690   \n",
      "Bosnia and Herzegovina     4126.613157     4314.114757     2546.781445   \n",
      "Bulgaria                   8224.191647     8239.854824     6302.623438   \n",
      "Croatia                   13221.821840    13822.583940     8447.794873   \n",
      "Czech Republic            15377.228550    16310.443400    14297.021220   \n",
      "Denmark                   21688.040480    25116.175810    26406.739850   \n",
      "Finland                   18533.157610    21141.012230    20647.164990   \n",
      "France                    20293.897460    22066.442140    24703.796150   \n",
      "Germany                   22031.532740    24639.185660    26505.303170   \n",
      "Greece                    15268.420890    16120.528390    17541.496340   \n",
      "Hungary                   12545.990660    12986.479980    10535.628550   \n",
      "Iceland                   23269.607500    26923.206280    25144.392010   \n",
      "Ireland                   12618.321410    13872.866520    17558.815550   \n",
      "Italy                     16537.483500    19207.234820    22013.644860   \n",
      "Montenegro                11222.587620    11732.510170     7003.339037   \n",
      "Netherlands               21399.460460    23651.323610    26790.949610   \n",
      "Norway                    26298.635310    31540.974800    33965.661150   \n",
      "Poland                     8451.531004     9082.351172     7738.881247   \n",
      "Portugal                  11753.842910    13039.308760    16207.266630   \n",
      "Romania                    9605.314053     9696.273295     6598.409903   \n",
      "Serbia                    15181.092700    15870.878510     9325.068238   \n",
      "Slovak Republic           11348.545850    12037.267580     9498.467723   \n",
      "Slovenia                  17866.721750    18678.534920    14214.716810   \n",
      "Spain                     13926.169970    15764.983130    18603.064520   \n",
      "Sweden                    20667.381250    23586.929270    23880.016830   \n",
      "Switzerland               28397.715120    30281.704590    31871.530300   \n",
      "Turkey                     4241.356344     5089.043686     5678.348271   \n",
      "United Kingdom            18232.424520    21664.787670    22705.092540   \n",
      "\n",
      "                        gdpPercap_1997  gdpPercap_2002  gdpPercap_2007  \n",
      "country                                                                 \n",
      "Albania                    3193.054604     4604.211737     5937.029526  \n",
      "Austria                   29095.920660    32417.607690    36126.492700  \n",
      "Belgium                   27561.196630    30485.883750    33692.605080  \n",
      "Bosnia and Herzegovina     4766.355904     6018.975239     7446.298803  \n",
      "Bulgaria                   5970.388760     7696.777725    10680.792820  \n",
      "Croatia                    9875.604515    11628.388950    14619.222720  \n",
      "Czech Republic            16048.514240    17596.210220    22833.308510  \n",
      "Denmark                   29804.345670    32166.500060    35278.418740  \n",
      "Finland                   23723.950200    28204.590570    33207.084400  \n",
      "France                    25889.784870    28926.032340    30470.016700  \n",
      "Germany                   27788.884160    30035.801980    32170.374420  \n",
      "Greece                    18747.698140    22514.254800    27538.411880  \n",
      "Hungary                   11712.776800    14843.935560    18008.944440  \n",
      "Iceland                   28061.099660    31163.201960    36180.789190  \n",
      "Ireland                   24521.947130    34077.049390    40675.996350  \n",
      "Italy                     24675.024460    27968.098170    28569.719700  \n",
      "Montenegro                 6465.613349     6557.194282     9253.896111  \n",
      "Netherlands               30246.130630    33724.757780    36797.933320  \n",
      "Norway                    41283.164330    44683.975250    49357.190170  \n",
      "Poland                    10159.583680    12002.239080    15389.924680  \n",
      "Portugal                  17641.031560    19970.907870    20509.647770  \n",
      "Romania                    7346.547557     7885.360081    10808.475610  \n",
      "Serbia                     7914.320304     7236.075251     9786.534714  \n",
      "Slovak Republic           12126.230650    13638.778370    18678.314350  \n",
      "Slovenia                  17161.107350    20660.019360    25768.257590  \n",
      "Spain                     20445.298960    24835.471660    28821.063700  \n",
      "Sweden                    25266.594990    29341.630930    33859.748350  \n",
      "Switzerland               32135.323010    34480.957710    37506.419070  \n",
      "Turkey                     6601.429915     6508.085718     8458.276384  \n",
      "United Kingdom            26074.531360    29478.999190    33203.261280   3\n"
     ]
    }
   ],
   "source": [
    "print(data, 3)"
   ]
  },
  {
   "cell_type": "markdown",
   "metadata": {},
   "source": [
    "find the location in a dataframe using DataFrame.iloc[ , ]"
   ]
  },
  {
   "cell_type": "code",
   "execution_count": 13,
   "metadata": {},
   "outputs": [
    {
     "data": {
      "text/plain": [
       "1601.056136"
      ]
     },
     "execution_count": 13,
     "metadata": {},
     "output_type": "execute_result"
    }
   ],
   "source": [
    "data.iloc[0,0]\n",
    "#this prints out what value is at this location. [row, column] with indices starting at 0. "
   ]
  },
  {
   "cell_type": "code",
   "execution_count": 14,
   "metadata": {},
   "outputs": [
    {
     "data": {
      "text/plain": [
       "1601.056136"
      ]
     },
     "execution_count": 14,
     "metadata": {},
     "output_type": "execute_result"
    }
   ],
   "source": [
    "#if you don't know index position, you can use the name\n",
    "data.loc[\"Albania\", \"gdpPercap_1952\"]"
   ]
  },
  {
   "cell_type": "code",
   "execution_count": 15,
   "metadata": {},
   "outputs": [
    {
     "data": {
      "application/javascript": [
       "IPython.notebook.set_autosave_interval(60000)"
      ]
     },
     "metadata": {},
     "output_type": "display_data"
    },
    {
     "name": "stdout",
     "output_type": "stream",
     "text": [
      "Autosaving every 60 seconds\n"
     ]
    }
   ],
   "source": [
    "%autosave 60"
   ]
  },
  {
   "cell_type": "code",
   "execution_count": 16,
   "metadata": {},
   "outputs": [
    {
     "name": "stdout",
     "output_type": "stream",
     "text": [
      "gdpPercap_1952    1601.056136\n",
      "gdpPercap_1957    1942.284244\n",
      "gdpPercap_1962    2312.888958\n",
      "gdpPercap_1967    2760.196931\n",
      "gdpPercap_1972    3313.422188\n",
      "gdpPercap_1977    3533.003910\n",
      "gdpPercap_1982    3630.880722\n",
      "gdpPercap_1987    3738.932735\n",
      "gdpPercap_1992    2497.437901\n",
      "gdpPercap_1997    3193.054604\n",
      "gdpPercap_2002    4604.211737\n",
      "gdpPercap_2007    5937.029526\n",
      "Name: Albania, dtype: float64\n"
     ]
    }
   ],
   "source": [
    "print(data.loc['Albania' , : ])\n",
    "#this types everything in the Albania row. "
   ]
  },
  {
   "cell_type": "code",
   "execution_count": 17,
   "metadata": {},
   "outputs": [
    {
     "name": "stdout",
     "output_type": "stream",
     "text": [
      "country\n",
      "Albania                    1601.056136\n",
      "Austria                    6137.076492\n",
      "Belgium                    8343.105127\n",
      "Bosnia and Herzegovina      973.533195\n",
      "Bulgaria                   2444.286648\n",
      "Croatia                    3119.236520\n",
      "Czech Republic             6876.140250\n",
      "Denmark                    9692.385245\n",
      "Finland                    6424.519071\n",
      "France                     7029.809327\n",
      "Germany                    7144.114393\n",
      "Greece                     3530.690067\n",
      "Hungary                    5263.673816\n",
      "Iceland                    7267.688428\n",
      "Ireland                    5210.280328\n",
      "Italy                      4931.404155\n",
      "Montenegro                 2647.585601\n",
      "Netherlands                8941.571858\n",
      "Norway                    10095.421720\n",
      "Poland                     4029.329699\n",
      "Portugal                   3068.319867\n",
      "Romania                    3144.613186\n",
      "Serbia                     3581.459448\n",
      "Slovak Republic            5074.659104\n",
      "Slovenia                   4215.041741\n",
      "Spain                      3834.034742\n",
      "Sweden                     8527.844662\n",
      "Switzerland               14734.232750\n",
      "Turkey                     1969.100980\n",
      "United Kingdom             9979.508487\n",
      "Name: gdpPercap_1952, dtype: float64\n"
     ]
    }
   ],
   "source": [
    "print(data.iloc[:, 0])\n",
    "#This prints out all the values for the rows. "
   ]
  },
  {
   "cell_type": "markdown",
   "metadata": {},
   "source": [
    "## matplotlib "
   ]
  },
  {
   "cell_type": "code",
   "execution_count": 18,
   "metadata": {},
   "outputs": [],
   "source": [
    "%matplotlib inline\n",
    "#this tells matplotlib to execute the commands inline so that you can see the plot. \n",
    "#Otherwise, you need to use the show command to see the plot. "
   ]
  },
  {
   "cell_type": "code",
   "execution_count": 20,
   "metadata": {},
   "outputs": [],
   "source": [
    "import matplotlib.pyplot as plt\n",
    "#This pyplot module is the major workhorse in plotting"
   ]
  },
  {
   "cell_type": "code",
   "execution_count": 21,
   "metadata": {},
   "outputs": [],
   "source": [
    "#Create two variable to plot against each other\n",
    "time = [0, 1, 2, 3]\n",
    "position = [ 0, 100, 200, 300]"
   ]
  },
  {
   "cell_type": "code",
   "execution_count": 22,
   "metadata": {},
   "outputs": [
    {
     "data": {
      "text/plain": [
       "[<matplotlib.lines.Line2D at 0x120e67390>]"
      ]
     },
     "execution_count": 22,
     "metadata": {},
     "output_type": "execute_result"
    },
    {
     "data": {
      "image/png": "[encoded data removed]",
      "text/plain": [
       "<Figure size 432x288 with 1 Axes>"
      ]
     },
     "metadata": {},
     "output_type": "display_data"
    }
   ],
   "source": [
    "plt.plot(time, position)"
   ]
  },
  {
   "cell_type": "code",
   "execution_count": 23,
   "metadata": {},
   "outputs": [
    {
     "data": {
      "text/plain": [
       "Text(0,0.5,'Position (km)')"
      ]
     },
     "execution_count": 23,
     "metadata": {},
     "output_type": "execute_result"
    },
    {
     "data": {
      "image/png": "[encoded data removed]",
      "text/plain": [
       "<Figure size 432x288 with 1 Axes>"
      ]
     },
     "metadata": {},
     "output_type": "display_data"
    }
   ],
   "source": [
    "#Adding axes to your plots and labels \n",
    "plt.plot(time, position)\n",
    "plt.xlabel(\"Time (hr)\")\n",
    "plt.ylabel('Position (km)')"
   ]
  },
  {
   "cell_type": "code",
   "execution_count": 25,
   "metadata": {},
   "outputs": [],
   "source": [
    "data2 = pd.read_csv(\"/Users/JamieJeffries/Desktop/python-day2/data2/gapminder_gdp_oceania.csv\", index_col = 'country')"
   ]
  },
  {
   "cell_type": "code",
   "execution_count": 31,
   "metadata": {},
   "outputs": [],
   "source": [
    "years = data2.columns.str.strip('gdpPercap_')\n",
    "#this pulls out the numbers from the gdpPercap_ and saving it as a variable called years"
   ]
  },
  {
   "cell_type": "code",
   "execution_count": 33,
   "metadata": {},
   "outputs": [],
   "source": [
    "#add the years column to our dataset as an integer\n",
    "data2.columns = years.astype(int)"
   ]
  },
  {
   "cell_type": "code",
   "execution_count": 32,
   "metadata": {},
   "outputs": [
    {
     "data": {
      "text/plain": [
       "<matplotlib.axes._subplots.AxesSubplot at 0x120f95b00>"
      ]
     },
     "execution_count": 32,
     "metadata": {},
     "output_type": "execute_result"
    },
    {
     "data": {
      "image/png": "[encoded data removed]",
      "text/plain": [
       "<Figure size 432x288 with 1 Axes>"
      ]
     },
     "metadata": {},
     "output_type": "display_data"
    }
   ],
   "source": [
    "#loc allows us to identify something by its string, iloc identifies it by its integer\n",
    "data2.loc['Australia'].plot()"
   ]
  },
  {
   "cell_type": "code",
   "execution_count": 34,
   "metadata": {},
   "outputs": [
    {
     "data": {
      "text/plain": [
       "Text(0,0.5,'GDP per capita')"
      ]
     },
     "execution_count": 34,
     "metadata": {},
     "output_type": "execute_result"
    },
    {
     "data": {
      "image/png": "[encoded data removed]",
      "text/plain": [
       "<Figure size 432x288 with 1 Axes>"
      ]
     },
     "metadata": {},
     "output_type": "display_data"
    }
   ],
   "source": [
    "data2.loc['Australia'].plot()\n",
    "plt.xlabel('Year')\n",
    "plt.ylabel(\"GDP per capita\")"
   ]
  },
  {
   "cell_type": "code",
   "execution_count": 35,
   "metadata": {},
   "outputs": [
    {
     "data": {
      "text/plain": [
       "<matplotlib.axes._subplots.AxesSubplot at 0x120f6ec88>"
      ]
     },
     "execution_count": 35,
     "metadata": {},
     "output_type": "execute_result"
    },
    {
     "data": {
      "image/png": "[encoded data removed]",
      "text/plain": [
       "<Figure size 432x288 with 1 Axes>"
      ]
     },
     "metadata": {},
     "output_type": "display_data"
    }
   ],
   "source": [
    "#sometimes you need to transpose the data. Put it vertical instead of horizontal, this is like the melt function in R. \n",
    "#this swtiches the rows and columns\n",
    "#T is for transpose\n",
    "data2.T.plot()\n",
    "\n"
   ]
  },
  {
   "cell_type": "code",
   "execution_count": 37,
   "metadata": {},
   "outputs": [
    {
     "name": "stdout",
     "output_type": "stream",
     "text": [
      "country    Australia  New Zealand\n",
      "1952     10039.59564  10556.57566\n",
      "1957     10949.64959  12247.39532\n",
      "1962     12217.22686  13175.67800\n",
      "1967     14526.12465  14463.91893\n",
      "1972     16788.62948  16046.03728\n",
      "1977     18334.19751  16233.71770\n",
      "1982     19477.00928  17632.41040\n",
      "1987     21888.88903  19007.19129\n",
      "1992     23424.76683  18363.32494\n",
      "1997     26997.93657  21050.41377\n",
      "2002     30687.75473  23189.80135\n",
      "2007     34435.36744  25185.00911\n",
      "                    1952         1957         1962         1967         1972  \\\n",
      "country                                                                        \n",
      "Australia    10039.59564  10949.64959  12217.22686  14526.12465  16788.62948   \n",
      "New Zealand  10556.57566  12247.39532  13175.67800  14463.91893  16046.03728   \n",
      "\n",
      "                    1977         1982         1987         1992         1997  \\\n",
      "country                                                                        \n",
      "Australia    18334.19751  19477.00928  21888.88903  23424.76683  26997.93657   \n",
      "New Zealand  16233.71770  17632.41040  19007.19129  18363.32494  21050.41377   \n",
      "\n",
      "                    2002         2007  \n",
      "country                                \n",
      "Australia    30687.75473  34435.36744  \n",
      "New Zealand  23189.80135  25185.00911  \n"
     ]
    }
   ],
   "source": [
    "print(data2.T)\n",
    "print(data2)"
   ]
  },
  {
   "cell_type": "code",
   "execution_count": 38,
   "metadata": {},
   "outputs": [],
   "source": [
    "#can change style to ggplot style\n",
    "plt.style.use('ggplot')"
   ]
  },
  {
   "cell_type": "code",
   "execution_count": 39,
   "metadata": {},
   "outputs": [
    {
     "data": {
      "text/plain": [
       "<matplotlib.axes._subplots.AxesSubplot at 0x121254908>"
      ]
     },
     "execution_count": 39,
     "metadata": {},
     "output_type": "execute_result"
    },
    {
     "data": {
      "image/png": "[encoded data removed]",
      "text/plain": [
       "<Figure size 432x288 with 1 Axes>"
      ]
     },
     "metadata": {},
     "output_type": "display_data"
    }
   ],
   "source": [
    "data2.T.plot(kind = 'bar')"
   ]
  },
  {
   "cell_type": "code",
   "execution_count": 41,
   "metadata": {},
   "outputs": [
    {
     "data": {
      "text/plain": [
       "[<matplotlib.lines.Line2D at 0x1213398d0>]"
      ]
     },
     "execution_count": 41,
     "metadata": {},
     "output_type": "execute_result"
    },
    {
     "data": {
      "image/png": "[encoded data removed]",
      "text/plain": [
       "<Figure size 432x288 with 1 Axes>"
      ]
     },
     "metadata": {},
     "output_type": "display_data"
    }
   ],
   "source": [
    "years = data2.columns\n",
    "gdp_australia = data2.loc['Australia']\n",
    "plt.plot(years, gdp_australia)"
   ]
  },
  {
   "cell_type": "code",
   "execution_count": 43,
   "metadata": {},
   "outputs": [
    {
     "data": {
      "text/plain": [
       "[<matplotlib.lines.Line2D at 0x1210579b0>]"
      ]
     },
     "execution_count": 43,
     "metadata": {},
     "output_type": "execute_result"
    },
    {
     "data": {
      "image/png": "[encoded data removed]",
      "text/plain": [
       "<Figure size 432x288 with 1 Axes>"
      ]
     },
     "metadata": {},
     "output_type": "display_data"
    }
   ],
   "source": [
    "#formatting the data. This gives you a green (g), solid line\n",
    "plt.plot(years, gdp_australia, 'g-')\n"
   ]
  },
  {
   "cell_type": "code",
   "execution_count": 46,
   "metadata": {},
   "outputs": [
    {
     "data": {
      "text/plain": [
       "[<matplotlib.lines.Line2D at 0x12176a630>]"
      ]
     },
     "execution_count": 46,
     "metadata": {},
     "output_type": "execute_result"
    },
    {
     "data": {
      "image/png": "[encoded data removed]",
      "text/plain": [
       "<Figure size 432x288 with 1 Axes>"
      ]
     },
     "metadata": {},
     "output_type": "display_data"
    }
   ],
   "source": [
    "#lw is line width. There is a whole document for ways to modify plots\n",
    "plt.plot(years, gdp_australia, 'g--', lw =8)"
   ]
  },
  {
   "cell_type": "code",
   "execution_count": 53,
   "metadata": {},
   "outputs": [
    {
     "data": {
      "text/plain": [
       "[<matplotlib.lines.Line2D at 0x1217ee5f8>]"
      ]
     },
     "execution_count": 53,
     "metadata": {},
     "output_type": "execute_result"
    },
    {
     "data": {
      "image/png": "[encoded data removed]",
      "text/plain": [
       "<Figure size 432x288 with 1 Axes>"
      ]
     },
     "metadata": {},
     "output_type": "display_data"
    }
   ],
   "source": [
    "gdp_nz = data2.loc[\"New Zealand\"]\n",
    "plt.plot(years, gdp_nz, 'b-')\n",
    "plt.plot(years, gdp_australia, 'g--', label = \"Australia\")"
   ]
  },
  {
   "cell_type": "code",
   "execution_count": 54,
   "metadata": {},
   "outputs": [
    {
     "data": {
      "text/plain": [
       "<matplotlib.collections.PathCollection at 0x121876a20>"
      ]
     },
     "execution_count": 54,
     "metadata": {},
     "output_type": "execute_result"
    },
    {
     "data": {
      "image/png": "[encoded data removed]",
      "text/plain": [
       "<Figure size 432x288 with 1 Axes>"
      ]
     },
     "metadata": {},
     "output_type": "display_data"
    }
   ],
   "source": [
    "plt.scatter(x = gdp_australia, y = gdp_nz, color = 'b', marker = \"H\")"
   ]
  },
  {
   "cell_type": "code",
   "execution_count": 58,
   "metadata": {},
   "outputs": [
    {
     "data": {
      "image/png": "[encoded data removed]",
      "text/plain": [
       "<Figure size 432x288 with 1 Axes>"
      ]
     },
     "metadata": {},
     "output_type": "display_data"
    }
   ],
   "source": [
    "#plt.gcf() = get current figure\n",
    "fig = plt.gcf()\n",
    "plt.scatter(x = gdp_australia, y = gdp_nz, color = 'b', marker = \"H\")\n",
    "fig.savefig(\"/Users/JamieJeffries/Desktop/python-day2/data2/wow.png\")"
   ]
  },
  {
   "cell_type": "markdown",
   "metadata": {},
   "source": [
    "## Challenge \n",
    "-create a plot of gdp with any symbol using the countries Mexico and Canada\n",
    "-Save image as a .png\n",
    "push the changes into github\n"
   ]
  },
  {
   "cell_type": "code",
   "execution_count": 60,
   "metadata": {},
   "outputs": [],
   "source": [
    "data3 = pd.read_csv('/Users/JamieJeffries/Desktop/python-day2/data2/gapminder_gdp_americas.csv', index_col = 'country')"
   ]
  },
  {
   "cell_type": "code",
   "execution_count": 84,
   "metadata": {},
   "outputs": [
    {
     "data": {
      "text/html": [
       "<div>\n",
       "<style scoped>\n",
       "    .dataframe tbody tr th:only-of-type {\n",
       "        vertical-align: middle;\n",
       "    }\n",
       "\n",
       "    .dataframe tbody tr th {\n",
       "        vertical-align: top;\n",
       "    }\n",
       "\n",
       "    .dataframe thead th {\n",
       "        text-align: right;\n",
       "    }\n",
       "</style>\n",
       "<table border=\"1\" class=\"dataframe\">\n",
       "  <thead>\n",
       "    <tr style=\"text-align: right;\">\n",
       "      <th></th>\n",
       "      <th>ontinent</th>\n",
       "      <th>1952</th>\n",
       "      <th>1957</th>\n",
       "      <th>1962</th>\n",
       "      <th>1967</th>\n",
       "      <th>1972</th>\n",
       "      <th>1977</th>\n",
       "      <th>1982</th>\n",
       "      <th>1987</th>\n",
       "      <th>1992</th>\n",
       "      <th>1997</th>\n",
       "      <th>2002</th>\n",
       "      <th>2007</th>\n",
       "    </tr>\n",
       "    <tr>\n",
       "      <th>country</th>\n",
       "      <th></th>\n",
       "      <th></th>\n",
       "      <th></th>\n",
       "      <th></th>\n",
       "      <th></th>\n",
       "      <th></th>\n",
       "      <th></th>\n",
       "      <th></th>\n",
       "      <th></th>\n",
       "      <th></th>\n",
       "      <th></th>\n",
       "      <th></th>\n",
       "      <th></th>\n",
       "    </tr>\n",
       "  </thead>\n",
       "  <tbody>\n",
       "    <tr>\n",
       "      <th>Argentina</th>\n",
       "      <td>Americas</td>\n",
       "      <td>5911.315053</td>\n",
       "      <td>6856.856212</td>\n",
       "      <td>7133.166023</td>\n",
       "      <td>8052.953021</td>\n",
       "      <td>9443.038526</td>\n",
       "      <td>10079.026740</td>\n",
       "      <td>8997.897412</td>\n",
       "      <td>9139.671389</td>\n",
       "      <td>9308.418710</td>\n",
       "      <td>10967.281950</td>\n",
       "      <td>8797.640716</td>\n",
       "      <td>12779.379640</td>\n",
       "    </tr>\n",
       "    <tr>\n",
       "      <th>Bolivia</th>\n",
       "      <td>Americas</td>\n",
       "      <td>2677.326347</td>\n",
       "      <td>2127.686326</td>\n",
       "      <td>2180.972546</td>\n",
       "      <td>2586.886053</td>\n",
       "      <td>2980.331339</td>\n",
       "      <td>3548.097832</td>\n",
       "      <td>3156.510452</td>\n",
       "      <td>2753.691490</td>\n",
       "      <td>2961.699694</td>\n",
       "      <td>3326.143191</td>\n",
       "      <td>3413.262690</td>\n",
       "      <td>3822.137084</td>\n",
       "    </tr>\n",
       "    <tr>\n",
       "      <th>Brazil</th>\n",
       "      <td>Americas</td>\n",
       "      <td>2108.944355</td>\n",
       "      <td>2487.365989</td>\n",
       "      <td>3336.585802</td>\n",
       "      <td>3429.864357</td>\n",
       "      <td>4985.711467</td>\n",
       "      <td>6660.118654</td>\n",
       "      <td>7030.835878</td>\n",
       "      <td>7807.095818</td>\n",
       "      <td>6950.283021</td>\n",
       "      <td>7957.980824</td>\n",
       "      <td>8131.212843</td>\n",
       "      <td>9065.800825</td>\n",
       "    </tr>\n",
       "    <tr>\n",
       "      <th>Canada</th>\n",
       "      <td>Americas</td>\n",
       "      <td>11367.161120</td>\n",
       "      <td>12489.950060</td>\n",
       "      <td>13462.485550</td>\n",
       "      <td>16076.588030</td>\n",
       "      <td>18970.570860</td>\n",
       "      <td>22090.883060</td>\n",
       "      <td>22898.792140</td>\n",
       "      <td>26626.515030</td>\n",
       "      <td>26342.884260</td>\n",
       "      <td>28954.925890</td>\n",
       "      <td>33328.965070</td>\n",
       "      <td>36319.235010</td>\n",
       "    </tr>\n",
       "    <tr>\n",
       "      <th>Chile</th>\n",
       "      <td>Americas</td>\n",
       "      <td>3939.978789</td>\n",
       "      <td>4315.622723</td>\n",
       "      <td>4519.094331</td>\n",
       "      <td>5106.654313</td>\n",
       "      <td>5494.024437</td>\n",
       "      <td>4756.763836</td>\n",
       "      <td>5095.665738</td>\n",
       "      <td>5547.063754</td>\n",
       "      <td>7596.125964</td>\n",
       "      <td>10118.053180</td>\n",
       "      <td>10778.783850</td>\n",
       "      <td>13171.638850</td>\n",
       "    </tr>\n",
       "    <tr>\n",
       "      <th>Colombia</th>\n",
       "      <td>Americas</td>\n",
       "      <td>2144.115096</td>\n",
       "      <td>2323.805581</td>\n",
       "      <td>2492.351109</td>\n",
       "      <td>2678.729839</td>\n",
       "      <td>3264.660041</td>\n",
       "      <td>3815.807870</td>\n",
       "      <td>4397.575659</td>\n",
       "      <td>4903.219100</td>\n",
       "      <td>5444.648617</td>\n",
       "      <td>6117.361746</td>\n",
       "      <td>5755.259962</td>\n",
       "      <td>7006.580419</td>\n",
       "    </tr>\n",
       "    <tr>\n",
       "      <th>Costa Rica</th>\n",
       "      <td>Americas</td>\n",
       "      <td>2627.009471</td>\n",
       "      <td>2990.010802</td>\n",
       "      <td>3460.937025</td>\n",
       "      <td>4161.727834</td>\n",
       "      <td>5118.146939</td>\n",
       "      <td>5926.876967</td>\n",
       "      <td>5262.734751</td>\n",
       "      <td>5629.915318</td>\n",
       "      <td>6160.416317</td>\n",
       "      <td>6677.045314</td>\n",
       "      <td>7723.447195</td>\n",
       "      <td>9645.061420</td>\n",
       "    </tr>\n",
       "    <tr>\n",
       "      <th>Cuba</th>\n",
       "      <td>Americas</td>\n",
       "      <td>5586.538780</td>\n",
       "      <td>6092.174359</td>\n",
       "      <td>5180.755910</td>\n",
       "      <td>5690.268015</td>\n",
       "      <td>5305.445256</td>\n",
       "      <td>6380.494966</td>\n",
       "      <td>7316.918107</td>\n",
       "      <td>7532.924763</td>\n",
       "      <td>5592.843963</td>\n",
       "      <td>5431.990415</td>\n",
       "      <td>6340.646683</td>\n",
       "      <td>8948.102923</td>\n",
       "    </tr>\n",
       "    <tr>\n",
       "      <th>Dominican Republic</th>\n",
       "      <td>Americas</td>\n",
       "      <td>1397.717137</td>\n",
       "      <td>1544.402995</td>\n",
       "      <td>1662.137359</td>\n",
       "      <td>1653.723003</td>\n",
       "      <td>2189.874499</td>\n",
       "      <td>2681.988900</td>\n",
       "      <td>2861.092386</td>\n",
       "      <td>2899.842175</td>\n",
       "      <td>3044.214214</td>\n",
       "      <td>3614.101285</td>\n",
       "      <td>4563.808154</td>\n",
       "      <td>6025.374752</td>\n",
       "    </tr>\n",
       "    <tr>\n",
       "      <th>Ecuador</th>\n",
       "      <td>Americas</td>\n",
       "      <td>3522.110717</td>\n",
       "      <td>3780.546651</td>\n",
       "      <td>4086.114078</td>\n",
       "      <td>4579.074215</td>\n",
       "      <td>5280.994710</td>\n",
       "      <td>6679.623260</td>\n",
       "      <td>7213.791267</td>\n",
       "      <td>6481.776993</td>\n",
       "      <td>7103.702595</td>\n",
       "      <td>7429.455877</td>\n",
       "      <td>5773.044512</td>\n",
       "      <td>6873.262326</td>\n",
       "    </tr>\n",
       "    <tr>\n",
       "      <th>El Salvador</th>\n",
       "      <td>Americas</td>\n",
       "      <td>3048.302900</td>\n",
       "      <td>3421.523218</td>\n",
       "      <td>3776.803627</td>\n",
       "      <td>4358.595393</td>\n",
       "      <td>4520.246008</td>\n",
       "      <td>5138.922374</td>\n",
       "      <td>4098.344175</td>\n",
       "      <td>4140.442097</td>\n",
       "      <td>4444.231700</td>\n",
       "      <td>5154.825496</td>\n",
       "      <td>5351.568666</td>\n",
       "      <td>5728.353514</td>\n",
       "    </tr>\n",
       "    <tr>\n",
       "      <th>Guatemala</th>\n",
       "      <td>Americas</td>\n",
       "      <td>2428.237769</td>\n",
       "      <td>2617.155967</td>\n",
       "      <td>2750.364446</td>\n",
       "      <td>3242.531147</td>\n",
       "      <td>4031.408271</td>\n",
       "      <td>4879.992748</td>\n",
       "      <td>4820.494790</td>\n",
       "      <td>4246.485974</td>\n",
       "      <td>4439.450840</td>\n",
       "      <td>4684.313807</td>\n",
       "      <td>4858.347495</td>\n",
       "      <td>5186.050003</td>\n",
       "    </tr>\n",
       "    <tr>\n",
       "      <th>Haiti</th>\n",
       "      <td>Americas</td>\n",
       "      <td>1840.366939</td>\n",
       "      <td>1726.887882</td>\n",
       "      <td>1796.589032</td>\n",
       "      <td>1452.057666</td>\n",
       "      <td>1654.456946</td>\n",
       "      <td>1874.298931</td>\n",
       "      <td>2011.159549</td>\n",
       "      <td>1823.015995</td>\n",
       "      <td>1456.309517</td>\n",
       "      <td>1341.726931</td>\n",
       "      <td>1270.364932</td>\n",
       "      <td>1201.637154</td>\n",
       "    </tr>\n",
       "    <tr>\n",
       "      <th>Honduras</th>\n",
       "      <td>Americas</td>\n",
       "      <td>2194.926204</td>\n",
       "      <td>2220.487682</td>\n",
       "      <td>2291.156835</td>\n",
       "      <td>2538.269358</td>\n",
       "      <td>2529.842345</td>\n",
       "      <td>3203.208066</td>\n",
       "      <td>3121.760794</td>\n",
       "      <td>3023.096699</td>\n",
       "      <td>3081.694603</td>\n",
       "      <td>3160.454906</td>\n",
       "      <td>3099.728660</td>\n",
       "      <td>3548.330846</td>\n",
       "    </tr>\n",
       "    <tr>\n",
       "      <th>Jamaica</th>\n",
       "      <td>Americas</td>\n",
       "      <td>2898.530881</td>\n",
       "      <td>4756.525781</td>\n",
       "      <td>5246.107524</td>\n",
       "      <td>6124.703451</td>\n",
       "      <td>7433.889293</td>\n",
       "      <td>6650.195573</td>\n",
       "      <td>6068.051350</td>\n",
       "      <td>6351.237495</td>\n",
       "      <td>7404.923685</td>\n",
       "      <td>7121.924704</td>\n",
       "      <td>6994.774861</td>\n",
       "      <td>7320.880262</td>\n",
       "    </tr>\n",
       "    <tr>\n",
       "      <th>Mexico</th>\n",
       "      <td>Americas</td>\n",
       "      <td>3478.125529</td>\n",
       "      <td>4131.546641</td>\n",
       "      <td>4581.609385</td>\n",
       "      <td>5754.733883</td>\n",
       "      <td>6809.406690</td>\n",
       "      <td>7674.929108</td>\n",
       "      <td>9611.147541</td>\n",
       "      <td>8688.156003</td>\n",
       "      <td>9472.384295</td>\n",
       "      <td>9767.297530</td>\n",
       "      <td>10742.440530</td>\n",
       "      <td>11977.574960</td>\n",
       "    </tr>\n",
       "    <tr>\n",
       "      <th>Nicaragua</th>\n",
       "      <td>Americas</td>\n",
       "      <td>3112.363948</td>\n",
       "      <td>3457.415947</td>\n",
       "      <td>3634.364406</td>\n",
       "      <td>4643.393534</td>\n",
       "      <td>4688.593267</td>\n",
       "      <td>5486.371089</td>\n",
       "      <td>3470.338156</td>\n",
       "      <td>2955.984375</td>\n",
       "      <td>2170.151724</td>\n",
       "      <td>2253.023004</td>\n",
       "      <td>2474.548819</td>\n",
       "      <td>2749.320965</td>\n",
       "    </tr>\n",
       "    <tr>\n",
       "      <th>Panama</th>\n",
       "      <td>Americas</td>\n",
       "      <td>2480.380334</td>\n",
       "      <td>2961.800905</td>\n",
       "      <td>3536.540301</td>\n",
       "      <td>4421.009084</td>\n",
       "      <td>5364.249663</td>\n",
       "      <td>5351.912144</td>\n",
       "      <td>7009.601598</td>\n",
       "      <td>7034.779161</td>\n",
       "      <td>6618.743050</td>\n",
       "      <td>7113.692252</td>\n",
       "      <td>7356.031934</td>\n",
       "      <td>9809.185636</td>\n",
       "    </tr>\n",
       "    <tr>\n",
       "      <th>Paraguay</th>\n",
       "      <td>Americas</td>\n",
       "      <td>1952.308701</td>\n",
       "      <td>2046.154706</td>\n",
       "      <td>2148.027146</td>\n",
       "      <td>2299.376311</td>\n",
       "      <td>2523.337977</td>\n",
       "      <td>3248.373311</td>\n",
       "      <td>4258.503604</td>\n",
       "      <td>3998.875695</td>\n",
       "      <td>4196.411078</td>\n",
       "      <td>4247.400261</td>\n",
       "      <td>3783.674243</td>\n",
       "      <td>4172.838464</td>\n",
       "    </tr>\n",
       "    <tr>\n",
       "      <th>Peru</th>\n",
       "      <td>Americas</td>\n",
       "      <td>3758.523437</td>\n",
       "      <td>4245.256698</td>\n",
       "      <td>4957.037982</td>\n",
       "      <td>5788.093330</td>\n",
       "      <td>5937.827283</td>\n",
       "      <td>6281.290855</td>\n",
       "      <td>6434.501797</td>\n",
       "      <td>6360.943444</td>\n",
       "      <td>4446.380924</td>\n",
       "      <td>5838.347657</td>\n",
       "      <td>5909.020073</td>\n",
       "      <td>7408.905561</td>\n",
       "    </tr>\n",
       "    <tr>\n",
       "      <th>Puerto Rico</th>\n",
       "      <td>Americas</td>\n",
       "      <td>3081.959785</td>\n",
       "      <td>3907.156189</td>\n",
       "      <td>5108.344630</td>\n",
       "      <td>6929.277714</td>\n",
       "      <td>9123.041742</td>\n",
       "      <td>9770.524921</td>\n",
       "      <td>10330.989150</td>\n",
       "      <td>12281.341910</td>\n",
       "      <td>14641.587110</td>\n",
       "      <td>16999.433300</td>\n",
       "      <td>18855.606180</td>\n",
       "      <td>19328.709010</td>\n",
       "    </tr>\n",
       "    <tr>\n",
       "      <th>Trinidad and Tobago</th>\n",
       "      <td>Americas</td>\n",
       "      <td>3023.271928</td>\n",
       "      <td>4100.393400</td>\n",
       "      <td>4997.523971</td>\n",
       "      <td>5621.368472</td>\n",
       "      <td>6619.551419</td>\n",
       "      <td>7899.554209</td>\n",
       "      <td>9119.528607</td>\n",
       "      <td>7388.597823</td>\n",
       "      <td>7370.990932</td>\n",
       "      <td>8792.573126</td>\n",
       "      <td>11460.600230</td>\n",
       "      <td>18008.509240</td>\n",
       "    </tr>\n",
       "    <tr>\n",
       "      <th>United States</th>\n",
       "      <td>Americas</td>\n",
       "      <td>13990.482080</td>\n",
       "      <td>14847.127120</td>\n",
       "      <td>16173.145860</td>\n",
       "      <td>19530.365570</td>\n",
       "      <td>21806.035940</td>\n",
       "      <td>24072.632130</td>\n",
       "      <td>25009.559140</td>\n",
       "      <td>29884.350410</td>\n",
       "      <td>32003.932240</td>\n",
       "      <td>35767.433030</td>\n",
       "      <td>39097.099550</td>\n",
       "      <td>42951.653090</td>\n",
       "    </tr>\n",
       "    <tr>\n",
       "      <th>Uruguay</th>\n",
       "      <td>Americas</td>\n",
       "      <td>5716.766744</td>\n",
       "      <td>6150.772969</td>\n",
       "      <td>5603.357717</td>\n",
       "      <td>5444.619620</td>\n",
       "      <td>5703.408898</td>\n",
       "      <td>6504.339663</td>\n",
       "      <td>6920.223051</td>\n",
       "      <td>7452.398969</td>\n",
       "      <td>8137.004775</td>\n",
       "      <td>9230.240708</td>\n",
       "      <td>7727.002004</td>\n",
       "      <td>10611.462990</td>\n",
       "    </tr>\n",
       "    <tr>\n",
       "      <th>Venezuela</th>\n",
       "      <td>Americas</td>\n",
       "      <td>7689.799761</td>\n",
       "      <td>9802.466526</td>\n",
       "      <td>8422.974165</td>\n",
       "      <td>9541.474188</td>\n",
       "      <td>10505.259660</td>\n",
       "      <td>13143.950950</td>\n",
       "      <td>11152.410110</td>\n",
       "      <td>9883.584648</td>\n",
       "      <td>10733.926310</td>\n",
       "      <td>10165.495180</td>\n",
       "      <td>8605.047831</td>\n",
       "      <td>11415.805690</td>\n",
       "    </tr>\n",
       "  </tbody>\n",
       "</table>\n",
       "</div>"
      ],
      "text/plain": [
       "                     ontinent          1952          1957          1962  \\\n",
       "country                                                                   \n",
       "Argentina            Americas   5911.315053   6856.856212   7133.166023   \n",
       "Bolivia              Americas   2677.326347   2127.686326   2180.972546   \n",
       "Brazil               Americas   2108.944355   2487.365989   3336.585802   \n",
       "Canada               Americas  11367.161120  12489.950060  13462.485550   \n",
       "Chile                Americas   3939.978789   4315.622723   4519.094331   \n",
       "Colombia             Americas   2144.115096   2323.805581   2492.351109   \n",
       "Costa Rica           Americas   2627.009471   2990.010802   3460.937025   \n",
       "Cuba                 Americas   5586.538780   6092.174359   5180.755910   \n",
       "Dominican Republic   Americas   1397.717137   1544.402995   1662.137359   \n",
       "Ecuador              Americas   3522.110717   3780.546651   4086.114078   \n",
       "El Salvador          Americas   3048.302900   3421.523218   3776.803627   \n",
       "Guatemala            Americas   2428.237769   2617.155967   2750.364446   \n",
       "Haiti                Americas   1840.366939   1726.887882   1796.589032   \n",
       "Honduras             Americas   2194.926204   2220.487682   2291.156835   \n",
       "Jamaica              Americas   2898.530881   4756.525781   5246.107524   \n",
       "Mexico               Americas   3478.125529   4131.546641   4581.609385   \n",
       "Nicaragua            Americas   3112.363948   3457.415947   3634.364406   \n",
       "Panama               Americas   2480.380334   2961.800905   3536.540301   \n",
       "Paraguay             Americas   1952.308701   2046.154706   2148.027146   \n",
       "Peru                 Americas   3758.523437   4245.256698   4957.037982   \n",
       "Puerto Rico          Americas   3081.959785   3907.156189   5108.344630   \n",
       "Trinidad and Tobago  Americas   3023.271928   4100.393400   4997.523971   \n",
       "United States        Americas  13990.482080  14847.127120  16173.145860   \n",
       "Uruguay              Americas   5716.766744   6150.772969   5603.357717   \n",
       "Venezuela            Americas   7689.799761   9802.466526   8422.974165   \n",
       "\n",
       "                             1967          1972          1977          1982  \\\n",
       "country                                                                       \n",
       "Argentina             8052.953021   9443.038526  10079.026740   8997.897412   \n",
       "Bolivia               2586.886053   2980.331339   3548.097832   3156.510452   \n",
       "Brazil                3429.864357   4985.711467   6660.118654   7030.835878   \n",
       "Canada               16076.588030  18970.570860  22090.883060  22898.792140   \n",
       "Chile                 5106.654313   5494.024437   4756.763836   5095.665738   \n",
       "Colombia              2678.729839   3264.660041   3815.807870   4397.575659   \n",
       "Costa Rica            4161.727834   5118.146939   5926.876967   5262.734751   \n",
       "Cuba                  5690.268015   5305.445256   6380.494966   7316.918107   \n",
       "Dominican Republic    1653.723003   2189.874499   2681.988900   2861.092386   \n",
       "Ecuador               4579.074215   5280.994710   6679.623260   7213.791267   \n",
       "El Salvador           4358.595393   4520.246008   5138.922374   4098.344175   \n",
       "Guatemala             3242.531147   4031.408271   4879.992748   4820.494790   \n",
       "Haiti                 1452.057666   1654.456946   1874.298931   2011.159549   \n",
       "Honduras              2538.269358   2529.842345   3203.208066   3121.760794   \n",
       "Jamaica               6124.703451   7433.889293   6650.195573   6068.051350   \n",
       "Mexico                5754.733883   6809.406690   7674.929108   9611.147541   \n",
       "Nicaragua             4643.393534   4688.593267   5486.371089   3470.338156   \n",
       "Panama                4421.009084   5364.249663   5351.912144   7009.601598   \n",
       "Paraguay              2299.376311   2523.337977   3248.373311   4258.503604   \n",
       "Peru                  5788.093330   5937.827283   6281.290855   6434.501797   \n",
       "Puerto Rico           6929.277714   9123.041742   9770.524921  10330.989150   \n",
       "Trinidad and Tobago   5621.368472   6619.551419   7899.554209   9119.528607   \n",
       "United States        19530.365570  21806.035940  24072.632130  25009.559140   \n",
       "Uruguay               5444.619620   5703.408898   6504.339663   6920.223051   \n",
       "Venezuela             9541.474188  10505.259660  13143.950950  11152.410110   \n",
       "\n",
       "                             1987          1992          1997          2002  \\\n",
       "country                                                                       \n",
       "Argentina             9139.671389   9308.418710  10967.281950   8797.640716   \n",
       "Bolivia               2753.691490   2961.699694   3326.143191   3413.262690   \n",
       "Brazil                7807.095818   6950.283021   7957.980824   8131.212843   \n",
       "Canada               26626.515030  26342.884260  28954.925890  33328.965070   \n",
       "Chile                 5547.063754   7596.125964  10118.053180  10778.783850   \n",
       "Colombia              4903.219100   5444.648617   6117.361746   5755.259962   \n",
       "Costa Rica            5629.915318   6160.416317   6677.045314   7723.447195   \n",
       "Cuba                  7532.924763   5592.843963   5431.990415   6340.646683   \n",
       "Dominican Republic    2899.842175   3044.214214   3614.101285   4563.808154   \n",
       "Ecuador               6481.776993   7103.702595   7429.455877   5773.044512   \n",
       "El Salvador           4140.442097   4444.231700   5154.825496   5351.568666   \n",
       "Guatemala             4246.485974   4439.450840   4684.313807   4858.347495   \n",
       "Haiti                 1823.015995   1456.309517   1341.726931   1270.364932   \n",
       "Honduras              3023.096699   3081.694603   3160.454906   3099.728660   \n",
       "Jamaica               6351.237495   7404.923685   7121.924704   6994.774861   \n",
       "Mexico                8688.156003   9472.384295   9767.297530  10742.440530   \n",
       "Nicaragua             2955.984375   2170.151724   2253.023004   2474.548819   \n",
       "Panama                7034.779161   6618.743050   7113.692252   7356.031934   \n",
       "Paraguay              3998.875695   4196.411078   4247.400261   3783.674243   \n",
       "Peru                  6360.943444   4446.380924   5838.347657   5909.020073   \n",
       "Puerto Rico          12281.341910  14641.587110  16999.433300  18855.606180   \n",
       "Trinidad and Tobago   7388.597823   7370.990932   8792.573126  11460.600230   \n",
       "United States        29884.350410  32003.932240  35767.433030  39097.099550   \n",
       "Uruguay               7452.398969   8137.004775   9230.240708   7727.002004   \n",
       "Venezuela             9883.584648  10733.926310  10165.495180   8605.047831   \n",
       "\n",
       "                             2007  \n",
       "country                            \n",
       "Argentina            12779.379640  \n",
       "Bolivia               3822.137084  \n",
       "Brazil                9065.800825  \n",
       "Canada               36319.235010  \n",
       "Chile                13171.638850  \n",
       "Colombia              7006.580419  \n",
       "Costa Rica            9645.061420  \n",
       "Cuba                  8948.102923  \n",
       "Dominican Republic    6025.374752  \n",
       "Ecuador               6873.262326  \n",
       "El Salvador           5728.353514  \n",
       "Guatemala             5186.050003  \n",
       "Haiti                 1201.637154  \n",
       "Honduras              3548.330846  \n",
       "Jamaica               7320.880262  \n",
       "Mexico               11977.574960  \n",
       "Nicaragua             2749.320965  \n",
       "Panama                9809.185636  \n",
       "Paraguay              4172.838464  \n",
       "Peru                  7408.905561  \n",
       "Puerto Rico          19328.709010  \n",
       "Trinidad and Tobago  18008.509240  \n",
       "United States        42951.653090  \n",
       "Uruguay              10611.462990  \n",
       "Venezuela            11415.805690  "
      ]
     },
     "execution_count": 84,
     "metadata": {},
     "output_type": "execute_result"
    }
   ],
   "source": [
    "#print(data3)\n",
    "data3"
   ]
  },
  {
   "cell_type": "code",
   "execution_count": 96,
   "metadata": {},
   "outputs": [
    {
     "name": "stdout",
     "output_type": "stream",
     "text": [
      "                             1952          1957          1962          1967  \\\n",
      "country                                                                       \n",
      "Argentina             5911.315053   6856.856212   7133.166023   8052.953021   \n",
      "Bolivia               2677.326347   2127.686326   2180.972546   2586.886053   \n",
      "Brazil                2108.944355   2487.365989   3336.585802   3429.864357   \n",
      "Canada               11367.161120  12489.950060  13462.485550  16076.588030   \n",
      "Chile                 3939.978789   4315.622723   4519.094331   5106.654313   \n",
      "Colombia              2144.115096   2323.805581   2492.351109   2678.729839   \n",
      "Costa Rica            2627.009471   2990.010802   3460.937025   4161.727834   \n",
      "Cuba                  5586.538780   6092.174359   5180.755910   5690.268015   \n",
      "Dominican Republic    1397.717137   1544.402995   1662.137359   1653.723003   \n",
      "Ecuador               3522.110717   3780.546651   4086.114078   4579.074215   \n",
      "El Salvador           3048.302900   3421.523218   3776.803627   4358.595393   \n",
      "Guatemala             2428.237769   2617.155967   2750.364446   3242.531147   \n",
      "Haiti                 1840.366939   1726.887882   1796.589032   1452.057666   \n",
      "Honduras              2194.926204   2220.487682   2291.156835   2538.269358   \n",
      "Jamaica               2898.530881   4756.525781   5246.107524   6124.703451   \n",
      "Mexico                3478.125529   4131.546641   4581.609385   5754.733883   \n",
      "Nicaragua             3112.363948   3457.415947   3634.364406   4643.393534   \n",
      "Panama                2480.380334   2961.800905   3536.540301   4421.009084   \n",
      "Paraguay              1952.308701   2046.154706   2148.027146   2299.376311   \n",
      "Peru                  3758.523437   4245.256698   4957.037982   5788.093330   \n",
      "Puerto Rico           3081.959785   3907.156189   5108.344630   6929.277714   \n",
      "Trinidad and Tobago   3023.271928   4100.393400   4997.523971   5621.368472   \n",
      "United States        13990.482080  14847.127120  16173.145860  19530.365570   \n",
      "Uruguay               5716.766744   6150.772969   5603.357717   5444.619620   \n",
      "Venezuela             7689.799761   9802.466526   8422.974165   9541.474188   \n",
      "\n",
      "                             1972          1977          1982          1987  \\\n",
      "country                                                                       \n",
      "Argentina             9443.038526  10079.026740   8997.897412   9139.671389   \n",
      "Bolivia               2980.331339   3548.097832   3156.510452   2753.691490   \n",
      "Brazil                4985.711467   6660.118654   7030.835878   7807.095818   \n",
      "Canada               18970.570860  22090.883060  22898.792140  26626.515030   \n",
      "Chile                 5494.024437   4756.763836   5095.665738   5547.063754   \n",
      "Colombia              3264.660041   3815.807870   4397.575659   4903.219100   \n",
      "Costa Rica            5118.146939   5926.876967   5262.734751   5629.915318   \n",
      "Cuba                  5305.445256   6380.494966   7316.918107   7532.924763   \n",
      "Dominican Republic    2189.874499   2681.988900   2861.092386   2899.842175   \n",
      "Ecuador               5280.994710   6679.623260   7213.791267   6481.776993   \n",
      "El Salvador           4520.246008   5138.922374   4098.344175   4140.442097   \n",
      "Guatemala             4031.408271   4879.992748   4820.494790   4246.485974   \n",
      "Haiti                 1654.456946   1874.298931   2011.159549   1823.015995   \n",
      "Honduras              2529.842345   3203.208066   3121.760794   3023.096699   \n",
      "Jamaica               7433.889293   6650.195573   6068.051350   6351.237495   \n",
      "Mexico                6809.406690   7674.929108   9611.147541   8688.156003   \n",
      "Nicaragua             4688.593267   5486.371089   3470.338156   2955.984375   \n",
      "Panama                5364.249663   5351.912144   7009.601598   7034.779161   \n",
      "Paraguay              2523.337977   3248.373311   4258.503604   3998.875695   \n",
      "Peru                  5937.827283   6281.290855   6434.501797   6360.943444   \n",
      "Puerto Rico           9123.041742   9770.524921  10330.989150  12281.341910   \n",
      "Trinidad and Tobago   6619.551419   7899.554209   9119.528607   7388.597823   \n",
      "United States        21806.035940  24072.632130  25009.559140  29884.350410   \n",
      "Uruguay               5703.408898   6504.339663   6920.223051   7452.398969   \n",
      "Venezuela            10505.259660  13143.950950  11152.410110   9883.584648   \n",
      "\n",
      "                             1992          1997          2002          2007  \n",
      "country                                                                      \n",
      "Argentina             9308.418710  10967.281950   8797.640716  12779.379640  \n",
      "Bolivia               2961.699694   3326.143191   3413.262690   3822.137084  \n",
      "Brazil                6950.283021   7957.980824   8131.212843   9065.800825  \n",
      "Canada               26342.884260  28954.925890  33328.965070  36319.235010  \n",
      "Chile                 7596.125964  10118.053180  10778.783850  13171.638850  \n",
      "Colombia              5444.648617   6117.361746   5755.259962   7006.580419  \n",
      "Costa Rica            6160.416317   6677.045314   7723.447195   9645.061420  \n",
      "Cuba                  5592.843963   5431.990415   6340.646683   8948.102923  \n",
      "Dominican Republic    3044.214214   3614.101285   4563.808154   6025.374752  \n",
      "Ecuador               7103.702595   7429.455877   5773.044512   6873.262326  \n",
      "El Salvador           4444.231700   5154.825496   5351.568666   5728.353514  \n",
      "Guatemala             4439.450840   4684.313807   4858.347495   5186.050003  \n",
      "Haiti                 1456.309517   1341.726931   1270.364932   1201.637154  \n",
      "Honduras              3081.694603   3160.454906   3099.728660   3548.330846  \n",
      "Jamaica               7404.923685   7121.924704   6994.774861   7320.880262  \n",
      "Mexico                9472.384295   9767.297530  10742.440530  11977.574960  \n",
      "Nicaragua             2170.151724   2253.023004   2474.548819   2749.320965  \n",
      "Panama                6618.743050   7113.692252   7356.031934   9809.185636  \n",
      "Paraguay              4196.411078   4247.400261   3783.674243   4172.838464  \n",
      "Peru                  4446.380924   5838.347657   5909.020073   7408.905561  \n",
      "Puerto Rico          14641.587110  16999.433300  18855.606180  19328.709010  \n",
      "Trinidad and Tobago   7370.990932   8792.573126  11460.600230  18008.509240  \n",
      "United States        32003.932240  35767.433030  39097.099550  42951.653090  \n",
      "Uruguay               8137.004775   9230.240708   7727.002004  10611.462990  \n",
      "Venezuela            10733.926310  10165.495180   8605.047831  11415.805690  \n"
     ]
    }
   ],
   "source": [
    "df = data3.drop('ontinent', axis = 1)\n",
    "#this removes a column called continent\n",
    "\n",
    "#Make a variable years\n",
    "years = df.columns \n",
    "#print(years)\n",
    "\n",
    "#clean up data to remove the strings from the years\n",
    "df.columns = df.columns.str.strip('gdpPercap_')\n",
    "\n",
    "\n",
    "#make the data only ints so it can be plotted\n",
    "df.columns = years.astype(int)\n",
    "print(df)\n",
    "\n"
   ]
  },
  {
   "cell_type": "code",
   "execution_count": 109,
   "metadata": {},
   "outputs": [
    {
     "data": {
      "image/png": "[encoded data removed]",
      "text/plain": [
       "<Figure size 432x288 with 1 Axes>"
      ]
     },
     "metadata": {},
     "output_type": "display_data"
    }
   ],
   "source": [
    "fig = plt.gcf()\n",
    "#Make the variable for your plot\n",
    "gdp_Canada = df.loc[\"Canada\"]\n",
    "gdp_Mexico = df.loc[\"Mexico\"]\n",
    "plt.plot(years, gdp_Canada, color = \"y\", label = \"Canada\") \n",
    "plt.plot(years, gdp_Mexico, color = 'b', label = \"Mexico\")\n",
    "plt.legend(loc = \"upper left\")\n",
    "plt.xlabel(\"GDP per capita\")\n",
    "plt.ylabel(\"Year\")\n",
    "\n",
    "fig.savefig(\"/Users/JamieJeffries/Desktop/python-day2/data2/NA.gdp.png\")\n"
   ]
  },
  {
   "cell_type": "markdown",
   "metadata": {},
   "source": [
    "## Writing Functions in Python"
   ]
  },
  {
   "cell_type": "code",
   "execution_count": 110,
   "metadata": {},
   "outputs": [],
   "source": [
    "def print_greeting():\n",
    "    print('hello')"
   ]
  },
  {
   "cell_type": "code",
   "execution_count": 111,
   "metadata": {},
   "outputs": [
    {
     "name": "stdout",
     "output_type": "stream",
     "text": [
      "hello\n"
     ]
    }
   ],
   "source": [
    "print_greeting()"
   ]
  },
  {
   "cell_type": "code",
   "execution_count": 112,
   "metadata": {},
   "outputs": [],
   "source": [
    "def yo(name):\n",
    "    print(\"Yo\" , name, \"!\")"
   ]
  },
  {
   "cell_type": "code",
   "execution_count": 114,
   "metadata": {},
   "outputs": [
    {
     "name": "stdout",
     "output_type": "stream",
     "text": [
      "Yo jame !\n"
     ]
    }
   ],
   "source": [
    "yo(\"jame\")"
   ]
  },
  {
   "cell_type": "code",
   "execution_count": 115,
   "metadata": {},
   "outputs": [
    {
     "name": "stdout",
     "output_type": "stream",
     "text": [
      "Yo Jame !\n"
     ]
    }
   ],
   "source": [
    "yo(name = \"Jame\")"
   ]
  },
  {
   "cell_type": "code",
   "execution_count": 116,
   "metadata": {},
   "outputs": [],
   "source": [
    "#Write a function that takes the yr/mo/date and convert it to hyphenated form \n",
    "def print_date(year, month, day):\n",
    "    joined = str(year) + \"-\" + str(month) + \"-\" + str(day)\n",
    "    print(joined)\n",
    "    "
   ]
  },
  {
   "cell_type": "code",
   "execution_count": 118,
   "metadata": {},
   "outputs": [
    {
     "name": "stdout",
     "output_type": "stream",
     "text": [
      "2018-08-16\n"
     ]
    }
   ],
   "source": [
    "print_date(year = 2018, month = \"08\", day = 16)"
   ]
  },
  {
   "cell_type": "code",
   "execution_count": 120,
   "metadata": {},
   "outputs": [],
   "source": [
    "#return argument used when function is going to return a value\n",
    "def average(values):\n",
    "    if len(values) == 0 :\n",
    "        return(None)\n",
    "    return sum(values)/len(values)"
   ]
  },
  {
   "cell_type": "code",
   "execution_count": 123,
   "metadata": {},
   "outputs": [
    {
     "data": {
      "text/plain": [
       "7.333333333333333"
      ]
     },
     "execution_count": 123,
     "metadata": {},
     "output_type": "execute_result"
    }
   ],
   "source": [
    "average([9, 11, 2])"
   ]
  },
  {
   "cell_type": "markdown",
   "metadata": {},
   "source": [
    "## 'glob.glob'"
   ]
  },
  {
   "cell_type": "markdown",
   "metadata": {},
   "source": [
    "this finds a set of files to work on"
   ]
  },
  {
   "cell_type": "code",
   "execution_count": 126,
   "metadata": {},
   "outputs": [],
   "source": [
    "import glob\n"
   ]
  },
  {
   "cell_type": "code",
   "execution_count": 129,
   "metadata": {},
   "outputs": [
    {
     "name": "stdout",
     "output_type": "stream",
     "text": [
      "all the .csv files in the data directory ['/Users/JamieJeffries/Desktop/python-day2/data2/gapminder_gdp_americas.csv', '/Users/JamieJeffries/Desktop/python-day2/data2/gapminder_gdp_europe.csv', '/Users/JamieJeffries/Desktop/python-day2/data2/gapminder_all.csv', '/Users/JamieJeffries/Desktop/python-day2/data2/gapminder_gdp_oceania.csv', '/Users/JamieJeffries/Desktop/python-day2/data2/gapminder_gdp_africa.csv', '/Users/JamieJeffries/Desktop/python-day2/data2/gapminder_gdp_asia.csv']\n"
     ]
    }
   ],
   "source": [
    "print(\"all the .csv files in the data directory\" , glob.glob(\"/Users/JamieJeffries/Desktop/python-day2/data2/*.csv\")\n",
    "    )"
   ]
  },
  {
   "cell_type": "code",
   "execution_count": 130,
   "metadata": {},
   "outputs": [
    {
     "ename": "TypeError",
     "evalue": "glob() missing 1 required positional argument: 'pathname'",
     "output_type": "error",
     "traceback": [
      "\u001b[0;31m---------------------------------------------------------------------------\u001b[0m",
      "\u001b[0;31mTypeError\u001b[0m                                 Traceback (most recent call last)",
      "\u001b[0;32m<ipython-input-130-c3be65e49aea>\u001b[0m in \u001b[0;36m<module>\u001b[0;34m()\u001b[0m\n\u001b[0;32m----> 1\u001b[0;31m \u001b[0mglob\u001b[0m\u001b[0;34m.\u001b[0m\u001b[0mglob\u001b[0m\u001b[0;34m(\u001b[0m\u001b[0;34m)\u001b[0m\u001b[0;34m\u001b[0m\u001b[0m\n\u001b[0m",
      "\u001b[0;31mTypeError\u001b[0m: glob() missing 1 required positional argument: 'pathname'"
     ]
    }
   ],
   "source": [
    "glob.glob(\"/Users/JamieJeffries/Desktop/python-day2/data2/*.csv\")"
   ]
  },
  {
   "cell_type": "code",
   "execution_count": 132,
   "metadata": {},
   "outputs": [
    {
     "name": "stdout",
     "output_type": "stream",
     "text": [
      "/Users/JamieJeffries/Desktop/python-day2/data2/gapminder_gdp_americas.csv 1397.7171369999999\n",
      "/Users/JamieJeffries/Desktop/python-day2/data2/gapminder_gdp_europe.csv 973.5331947999999\n",
      "/Users/JamieJeffries/Desktop/python-day2/data2/gapminder_all.csv 298.8462121\n",
      "/Users/JamieJeffries/Desktop/python-day2/data2/gapminder_gdp_oceania.csv 10039.595640000001\n",
      "/Users/JamieJeffries/Desktop/python-day2/data2/gapminder_gdp_africa.csv 298.8462121\n",
      "/Users/JamieJeffries/Desktop/python-day2/data2/gapminder_gdp_asia.csv 331.0\n"
     ]
    }
   ],
   "source": [
    "for filename in glob.glob(\"/Users/JamieJeffries/Desktop/python-day2/data2/*.csv\"):\n",
    "    data= pd.read_csv(filename)\n",
    "    print(filename, data[\"gdpPercap_1952\"].min())\n",
    "    \n",
    "    #This loops through all the documents and will operate on each file\n",
    "    #Can use the help function help() to get info on what arguments each function takes."
   ]
  },
  {
   "cell_type": "code",
   "execution_count": null,
   "metadata": {},
   "outputs": [],
   "source": []
  }
 ],
 "metadata": {
  "kernelspec": {
   "display_name": "Python 3",
   "language": "python",
   "name": "python3"
  },
  "language_info": {
   "codemirror_mode": {
    "name": "ipython",
    "version": 3
   },
   "file_extension": ".py",
   "mimetype": "text/x-python",
   "name": "python",
   "nbconvert_exporter": "python",
   "pygments_lexer": "ipython3",
   "version": "3.6.5"
  }
 },
 "nbformat": 4,
 "nbformat_minor": 2
}
